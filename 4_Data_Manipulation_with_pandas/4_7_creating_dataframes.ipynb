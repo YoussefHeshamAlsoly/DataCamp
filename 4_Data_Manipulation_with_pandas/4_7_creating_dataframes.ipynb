{
 "cells": [
  {
   "cell_type": "markdown",
   "id": "edcef015",
   "metadata": {},
   "source": [
    "# Creating DataFrames"
   ]
  },
  {
   "cell_type": "code",
   "execution_count": 2,
   "id": "82e30b73",
   "metadata": {},
   "outputs": [],
   "source": [
    "import pandas as pd\n",
    "import matplotlib.pyplot as plt"
   ]
  },
  {
   "cell_type": "markdown",
   "id": "6df68184",
   "metadata": {},
   "source": [
    "## Creating DataFrames\n",
    "\n",
    "There are many ways to create DataFrames from scratch, but we'll discuss two ways: from a list of dictionaries and from a dictionary of lists. In the first method, the DataFrame is built up row by row, while in the second method, the DataFrame is built up column by column."
   ]
  },
  {
   "cell_type": "markdown",
   "id": "385107c5",
   "metadata": {},
   "source": [
    "### List of dictionaries - by row\n",
    "\n",
    "We have some new dog data to put into a DataFrame. Let's start with the first method to do this, creating a list of dictionaries. First, we'll create a new list using square brackets to hold our dictionaries. Then, we'll go through the first row of our data and put it in a dictionary. Each key, on the left of each colon, will become a column name. Each value is one dog's data for that column. Here, the first key is \"name,\" which is the first column name, and its corresponding value is \"Ginger,\" the name of the first dog. The second key is the second column name, \"breed,\" and its value is \"Dachshund,\" which is the first dog's breed. Then we have the dog's height and weight. For the next row, we create another dictionary that follows the same format."
   ]
  },
  {
   "cell_type": "code",
   "execution_count": 4,
   "id": "ef306169",
   "metadata": {},
   "outputs": [],
   "source": [
    "list_of_dicts = [\n",
    "    {\"name\": \"Ginger\", \"breed\": \"Dachshund\", \"height_cm\": 22, \"weight_kg\": 10, \"date_of_birth\": \"2019-03-14\"},\n",
    "    {\"name\": \"Scout\", \"breed\": \"Dalmatian\", \"height_cm\": 59, \"weight_kg\": 25, \"date_of_birth\": \"2019-05-09\"}\n",
    "]"
   ]
  },
  {
   "cell_type": "markdown",
   "id": "5e6338c1",
   "metadata": {},
   "source": [
    "#### List of dictionaries - by row\n",
    "Now that we have our list of dictionaries, we can pass it into pd-dot-DataFrame to convert it into DataFrame form."
   ]
  },
  {
   "cell_type": "code",
   "execution_count": 6,
   "id": "f064358c",
   "metadata": {},
   "outputs": [
    {
     "data": {
      "text/html": [
       "<div>\n",
       "<style scoped>\n",
       "    .dataframe tbody tr th:only-of-type {\n",
       "        vertical-align: middle;\n",
       "    }\n",
       "\n",
       "    .dataframe tbody tr th {\n",
       "        vertical-align: top;\n",
       "    }\n",
       "\n",
       "    .dataframe thead th {\n",
       "        text-align: right;\n",
       "    }\n",
       "</style>\n",
       "<table border=\"1\" class=\"dataframe\">\n",
       "  <thead>\n",
       "    <tr style=\"text-align: right;\">\n",
       "      <th></th>\n",
       "      <th>name</th>\n",
       "      <th>breed</th>\n",
       "      <th>height_cm</th>\n",
       "      <th>weight_kg</th>\n",
       "      <th>date_of_birth</th>\n",
       "    </tr>\n",
       "  </thead>\n",
       "  <tbody>\n",
       "    <tr>\n",
       "      <th>0</th>\n",
       "      <td>Ginger</td>\n",
       "      <td>Dachshund</td>\n",
       "      <td>22</td>\n",
       "      <td>10</td>\n",
       "      <td>2019-03-14</td>\n",
       "    </tr>\n",
       "    <tr>\n",
       "      <th>1</th>\n",
       "      <td>Scout</td>\n",
       "      <td>Dalmatian</td>\n",
       "      <td>59</td>\n",
       "      <td>25</td>\n",
       "      <td>2019-05-09</td>\n",
       "    </tr>\n",
       "  </tbody>\n",
       "</table>\n",
       "</div>"
      ],
      "text/plain": [
       "     name      breed  height_cm  weight_kg date_of_birth\n",
       "0  Ginger  Dachshund         22         10    2019-03-14\n",
       "1   Scout  Dalmatian         59         25    2019-05-09"
      ]
     },
     "execution_count": 6,
     "metadata": {},
     "output_type": "execute_result"
    }
   ],
   "source": [
    "new_dogs = pd.DataFrame(list_of_dicts)\n",
    "new_dogs"
   ]
  },
  {
   "cell_type": "markdown",
   "id": "42b3adcb",
   "metadata": {},
   "source": [
    "### Dictionary of lists - by column\n",
    "\n",
    "Now let's talk about the dictionary of lists method. When using this method, we need to go through the data column by column. Remember that keys are to the left of a colon, and values are to the right. Each key will be a column name, and each value will be a list of the values in the column. First, we'll create a dictionary using curly braces. Let's start with the first column, which is called \"name,\" so the first key is \"name.\" The value is a list containing each name, from top to bottom. In this case, it's \"Ginger\" and \"Scout.\" Next, we have the \"breed\" column, so we add \"breed\" as a key, and its corresponding value is a list containing \"Dachshund\" and \"Dalmatian.\" Then we have height_cm, which is 22 and 59, and weight_kg, which is 10 and 25. Now that we have our dictionary of lists set up, we can pass it into pd-dot-DataFrame to convert it into a pandas DataFrame."
   ]
  },
  {
   "cell_type": "code",
   "execution_count": null,
   "id": "b9aff046",
   "metadata": {},
   "outputs": [],
   "source": [
    "dict_of_lists = {\n",
    "    \"name\": [\"Ginger\", \"Scout\"],\n",
    "    \"breed\": [\"Dachshund\", \"Dalmatian\"],\n",
    "    \"height_cm\": [22, 59],\n",
    "    \"weight_kg\": [10, 25],\n",
    "    \"date_of_birth\": [\"2019-03-14\", \"2019-05-09\"]\n",
    "}\n"
   ]
  },
  {
   "cell_type": "markdown",
   "id": "601a63db",
   "metadata": {},
   "source": [
    "#### Dictionary of lists - by column\n",
    "\n",
    "If we print the new DataFrame, we can see that it's exactly what we wanted."
   ]
  },
  {
   "cell_type": "code",
   "execution_count": 9,
   "id": "d1873867",
   "metadata": {},
   "outputs": [
    {
     "data": {
      "text/html": [
       "<div>\n",
       "<style scoped>\n",
       "    .dataframe tbody tr th:only-of-type {\n",
       "        vertical-align: middle;\n",
       "    }\n",
       "\n",
       "    .dataframe tbody tr th {\n",
       "        vertical-align: top;\n",
       "    }\n",
       "\n",
       "    .dataframe thead th {\n",
       "        text-align: right;\n",
       "    }\n",
       "</style>\n",
       "<table border=\"1\" class=\"dataframe\">\n",
       "  <thead>\n",
       "    <tr style=\"text-align: right;\">\n",
       "      <th></th>\n",
       "      <th>name</th>\n",
       "      <th>breed</th>\n",
       "      <th>height_cm</th>\n",
       "      <th>weight_kg</th>\n",
       "      <th>date_of_birth</th>\n",
       "    </tr>\n",
       "  </thead>\n",
       "  <tbody>\n",
       "    <tr>\n",
       "      <th>0</th>\n",
       "      <td>Ginger</td>\n",
       "      <td>Dachshund</td>\n",
       "      <td>22</td>\n",
       "      <td>10</td>\n",
       "      <td>2019-03-14</td>\n",
       "    </tr>\n",
       "    <tr>\n",
       "      <th>1</th>\n",
       "      <td>Scout</td>\n",
       "      <td>Dalmatian</td>\n",
       "      <td>59</td>\n",
       "      <td>25</td>\n",
       "      <td>2019-05-09</td>\n",
       "    </tr>\n",
       "  </tbody>\n",
       "</table>\n",
       "</div>"
      ],
      "text/plain": [
       "     name      breed  height_cm  weight_kg date_of_birth\n",
       "0  Ginger  Dachshund         22         10    2019-03-14\n",
       "1   Scout  Dalmatian         59         25    2019-05-09"
      ]
     },
     "execution_count": 9,
     "metadata": {},
     "output_type": "execute_result"
    }
   ],
   "source": [
    "new_dogs = pd.DataFrame(dict_of_lists)\n",
    "new_dogs"
   ]
  },
  {
   "cell_type": "markdown",
   "id": "1551cbce",
   "metadata": {},
   "source": [
    "___\n",
    "# Reading and writing CSVs"
   ]
  },
  {
   "cell_type": "markdown",
   "id": "edb68303",
   "metadata": {},
   "source": [
    "Reading CSV files was already known.\n",
    "Now, its time to save the data to CSV file (write a CSV file)."
   ]
  },
  {
   "cell_type": "markdown",
   "id": "8ef99fc6",
   "metadata": {},
   "source": [
    "## DataFrame to CSV\n",
    "\n",
    "To convert a DataFrame to a CSV, we can use `new_dogs.to_csv(*full or relative path to storage location*)`, and pass in a new file path. If we take a look at the new file, it contains the BMI column."
   ]
  },
  {
   "cell_type": "code",
   "execution_count": 18,
   "id": "1293b2cc",
   "metadata": {},
   "outputs": [],
   "source": [
    "new_dogs.to_csv(\"Resources//new_dogs.csv\")"
   ]
  }
 ],
 "metadata": {
  "kernelspec": {
   "display_name": "Python 3",
   "language": "python",
   "name": "python3"
  },
  "language_info": {
   "codemirror_mode": {
    "name": "ipython",
    "version": 3
   },
   "file_extension": ".py",
   "mimetype": "text/x-python",
   "name": "python",
   "nbconvert_exporter": "python",
   "pygments_lexer": "ipython3",
   "version": "3.10.0"
  }
 },
 "nbformat": 4,
 "nbformat_minor": 5
}
