{
 "cells": [
  {
   "cell_type": "markdown",
   "id": "71f4beef",
   "metadata": {},
   "source": [
    "# Wrap-up"
   ]
  },
  {
   "cell_type": "markdown",
   "id": "abf2f420",
   "metadata": {},
   "source": [
    "## Recap\n",
    "- Chapter 1 \n",
    "    - Subsetting and sorting\n",
    "    - Adding new columns \n",
    "\n",
    "- Chapter 2\n",
    "    - Aggregating and grouping \n",
    "    - Summary statistics \n",
    "\n",
    "- Chapter 3\n",
    "    - Indexing\n",
    "    - Slicing\n",
    "\n",
    "- Chapter 4\n",
    "    - Visualizations\n",
    "    - Reading and writing CSVs\n",
    "\n",
    "\n",
    "\n",
    "\n",
    "In chapter 1, you saw how to subset and sort DataFrames and how to add new columns. In chapter 2, you saw several methods for aggregating and grouping data to calculate summary statistics. In chapter 3, you saw how using indexing and slicing allows for simpler subsetting. In chapter 4, you saw how to visualize a DataFrame, and how to read data from and write data to CSV files."
   ]
  }
 ],
 "metadata": {
  "kernelspec": {
   "display_name": "Python 3",
   "language": "python",
   "name": "python3"
  },
  "language_info": {
   "codemirror_mode": {
    "name": "ipython",
    "version": 3
   },
   "file_extension": ".py",
   "mimetype": "text/x-python",
   "name": "python",
   "nbconvert_exporter": "python",
   "pygments_lexer": "ipython3",
   "version": "3.10.0"
  }
 },
 "nbformat": 4,
 "nbformat_minor": 5
}
