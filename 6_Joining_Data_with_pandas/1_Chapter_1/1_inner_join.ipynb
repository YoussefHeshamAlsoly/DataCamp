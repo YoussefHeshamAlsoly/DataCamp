{
 "cells": [
  {
   "cell_type": "markdown",
   "id": "ec2a7cea",
   "metadata": {},
   "source": [
    "# Inner join"
   ]
  },
  {
   "cell_type": "markdown",
   "id": "ce19b952",
   "metadata": {},
   "source": [
    "## Video lecture Transcript\n",
    "\n",
    "**1. Inner join**\n",
    "\n",
    "Welcome! I am Aaren Stubberfield and I will be your instructor for this course. The pandas package is a powerful tool for manipulating and transforming data in Python. However, when working on an analysis, the data needed could be in multiple tables. This course will focus on the vital skill of merging tables together.\n",
    "\n",
    "\n",
    "**2. For clarity**\n",
    "\n",
    "As we start, two quick clarifications. First, through other courses on DataCamp, you may have learned how to import tabular data as DataFrames. In this course, you may hear the words table and DataFrame, but they are equivalent here. Second, we will refer to combining different tables together as merging tables, but note that some refer to this same process as joining.\n",
    "\n",
    "\n",
    "**3. Chicago data portal dataset**\n",
    "\n",
    "To help us learn about merging tables, we will use data from the city of Chicago data portal.\n",
    "\n",
    "\n",
    "**4. Datasets for example**\n",
    "\n",
    "The city of Chicago is divided into fifty local neighborhoods called wards. We have a table with data about the local government offices in each ward. In this example, we want to merge the local government data with census data about the population of each ward.\n",
    "\n",
    "\n",
    "**5. The ward data**\n",
    "\n",
    "If we look at the wards table, we have information about the local government of each ward, such as the government office address. This table has 50 rows and 4 columns, or one row for each ward.\n",
    "\n",
    "\n",
    "**6. Census data**\n",
    "\n",
    "The census table contains the population of each ward in 2000 and 2010, and that change as a percentage. Additionally, it includes the address for the center of each ward. This table has 50 rows and 6 columns.\n",
    "\n",
    "\n",
    "**7. Merging tables**\n",
    "\n",
    "The two tables are related by their ward column. We can merge them together, matching the ward number from each row of the wards table to the ward numbers from the census table. For example, the second ward in the wards table with Alderman Brian Hopkins would be matched with row 2 of the census table where the population in 2000 was 54,361.\n",
    "\n",
    "\n",
    "**8. Inner join**\n",
    "\n",
    "The pandas package has an excellent DataFrame method for performing this type of merge called merge. The merge method takes the first DataFrame, wards, and merges it with the second DataFrame, census. We use the on argument to tell the method that we want to merge the two DataFrames on the ward column. Since we listed the wards table first, its columns will appear first in the output, followed by the columns from the census table. In this example, the merge returns a DataFrame with 50 rows and 9 columns, where the returned rows have matching values for the ward column in both tables. This is called an inner join.\n",
    "\n",
    "\n",
    "**9. Inner join**\n",
    "\n",
    "An inner join will only return rows that have matching values in both tables.\n",
    "\n",
    "\n",
    "**10. Suffixes**\n",
    "\n",
    "You may have noticed that the merged table has columns with suffixes of underscore x or y. This is because both the wards and census tables contained address and zip columns. To avoid multiple columns with the same name, they are automatically given a suffix by the merge method.\n",
    "\n",
    "\n",
    "**11. Suffixes**\n",
    "\n",
    "We can use the suffix argument of the merge method to control this behavior. We provide a tuple where all of the overlapping columns in the left table are given the suffix '_ward', and those of the right table will be given the suffix '_cen'. This makes it easier for us to tell the difference between the columns.\n",
    "\n",
    "\n",
    "**12. Let's practice!**\n",
    "\n",
    "Now let's practice using the merge method.\n"
   ]
  },
  {
   "cell_type": "markdown",
   "id": "245b7a74",
   "metadata": {},
   "source": [
    "## Exercises"
   ]
  },
  {
   "cell_type": "markdown",
   "id": "82b5ed92",
   "metadata": {},
   "source": [
    "### Exercise 1\n",
    "\n",
    "What column to merge on?\n",
    "Chicago provides a list of taxicab owners and vehicles licensed to operate within the city, for public safety. Your goal is to merge two tables together. One table is called taxi_owners, with info about the taxi cab company owners, and one is called taxi_veh, with info about each taxi cab vehicle. Both the taxi_owners and taxi_veh tables have been loaded for you to explore."
   ]
  },
  {
   "cell_type": "markdown",
   "id": "864611ee",
   "metadata": {},
   "source": [
    "``` c\n",
    "print(taxi_owners.head())\n",
    "     rid   vid           owner                 address    zip\n",
    "0  T6285  6285  AGEAN TAXI LLC     4536 N. ELSTON AVE.  60630\n",
    "1  T4862  4862    MANGIB CORP.  5717 N. WASHTENAW AVE.  60659\n",
    "2  T1495  1495   FUNRIDE, INC.     3351 W. ADDISON ST.  60618\n",
    "3  T4231  4231    ALQUSH CORP.   6611 N. CAMPBELL AVE.  60645\n",
    "4  T5971  5971  EUNIFFORD INC.     3351 W. ADDISON ST.  60618\n",
    "```\n",
    "\n",
    "\n",
    "\n",
    "``` c\n",
    "print(taxi_veh.head())\n",
    "    vid    make   model  year fuel_type                owner\n",
    "0  2767  TOYOTA   CAMRY  2013    HYBRID       SEYED M. BADRI\n",
    "1  1411  TOYOTA    RAV4  2017    HYBRID          DESZY CORP.\n",
    "2  6500  NISSAN  SENTRA  2019  GASOLINE       AGAPH CAB CORP\n",
    "3  2746  TOYOTA   CAMRY  2013    HYBRID  MIDWEST CAB CO, INC\n",
    "4  5922  TOYOTA   CAMRY  2013    HYBRID       SUMETTI CAB CO\n",
    "```"
   ]
  },
  {
   "cell_type": "markdown",
   "id": "bac78ae7",
   "metadata": {},
   "source": [
    "My note: Both tables share the columns `vid` and `owner`. BUT, I feel like the `owner` could be problematic, and it's not even present in the MCQ."
   ]
  },
  {
   "cell_type": "markdown",
   "id": "d13f760c",
   "metadata": {},
   "source": [
    "Choose the column you would use to merge the two tables on using the .merge() method.\n",
    "\n",
    "on='rid'\n",
    "\n",
    "on='vid' ✅\n",
    "\n",
    "on='year'\n",
    "\n",
    "on='zip'"
   ]
  },
  {
   "cell_type": "markdown",
   "id": "8f5d9c10",
   "metadata": {},
   "source": [
    "### Exercise 2\n",
    "Your first inner join\n",
    "You have been tasked with figuring out what the most popular types of fuel used in Chicago taxis are. To complete the analysis, you need to merge the taxi_owners and taxi_veh tables together on the vid column. You can then use the merged table along with the .value_counts() method to find the most common fuel_type.\n",
    "\n",
    "Since you'll be working with pandas throughout the course, the package will be preloaded for you as pd in each exercise in this course. Also the taxi_owners and taxi_veh DataFrames are loaded for you.\n"
   ]
  },
  {
   "cell_type": "markdown",
   "id": "70cbfcb2",
   "metadata": {},
   "source": [
    "#### Instructions (3)\n",
    "1. Merge taxi_owners with taxi_veh on the column vid, and save the result to taxi_own_veh.\n",
    "2. Set the left and right table suffixes for overlapping columns of the merge to _own and _veh, respectively.\n",
    "3. Select the fuel_type column from taxi_own_veh and print the value_counts() to find the most popular fuel_types used."
   ]
  },
  {
   "cell_type": "markdown",
   "id": "02d2284f",
   "metadata": {},
   "source": [
    "___\n",
    "``` python\n",
    "# Instruction 1. Merge taxi_owners with taxi_veh on the column vid, and save the result to taxi_own_veh.\n",
    "\n",
    "# Merge the taxi_owners and taxi_veh tables\n",
    "taxi_own_veh = taxi_owners.merge(taxi_veh, on=\"vid\")\n",
    "\n",
    "# Print the column names of the taxi_own_veh\n",
    "print(taxi_own_veh.columns)\n",
    "\n",
    "\n",
    "\n",
    "\n",
    "# shell response\n",
    "Index(['rid', 'vid', 'owner_x', 'address', 'zip', 'make', 'model', 'year', 'fuel_type', 'owner_y'], dtype='object')\n",
    "```\n",
    "___"
   ]
  },
  {
   "cell_type": "markdown",
   "id": "87137a97",
   "metadata": {},
   "source": [
    "``` python\n",
    "# Instruction 2. Set the left and right table suffixes for overlapping columns of the merge to _own and _veh, respectively.\n",
    "\n",
    "# Merge the taxi_owners and taxi_veh tables setting a suffix\n",
    "taxi_own_veh = taxi_owners.merge(taxi_veh, on='vid', suffixes=(\"_own\", \"_veh\"))\n",
    "\n",
    "# Print the column names of taxi_own_veh\n",
    "print(taxi_own_veh.columns)\n",
    "\n",
    "\n",
    "\n",
    "\n",
    "# shell response\n",
    "Index(['rid', 'vid', 'owner_own', 'address', 'zip', 'make', 'model', 'year', 'fuel_type', 'owner_veh'], dtype='object')\n",
    "```\n",
    "___"
   ]
  },
  {
   "cell_type": "markdown",
   "id": "2ec670f9",
   "metadata": {},
   "source": [
    "```python\n",
    "# Instruction 3. Select the fuel_type column from taxi_own_veh and print the value_counts() to find the most popular fuel_types used.\n",
    "\n",
    "# Merge the taxi_owners and taxi_veh tables setting a suffix\n",
    "taxi_own_veh = taxi_owners.merge(taxi_veh, on='vid', suffixes=('_own','_veh'))\n",
    "\n",
    "# Print the value_counts to find the most popular fuel_type\n",
    "print(taxi_own_veh['fuel_type'].value_counts())\n",
    "\n",
    "\n",
    "\n",
    "\n",
    "# shell response\n",
    "Index(['rid', 'vid', 'owner_x', 'address', 'zip', 'make', 'model', 'year', 'fuel_type', 'owner_y'], dtype='object')\n",
    "```"
   ]
  },
  {
   "cell_type": "markdown",
   "id": "3f4522e3",
   "metadata": {},
   "source": [
    "### Exercise 3\n",
    "Inner joins and number of rows returned\n",
    "All of the merges you have studied to this point are called inner joins. It is necessary to understand that inner joins only return the rows with matching values in both tables. You will explore this further by reviewing the merge between the `wards` and `census` tables, then comparing it to merges of copies of these tables that are slightly altered, named `wards_altered`, and `census_altered`. The first row of the `wards` column has been changed in the altered tables. You will examine how this affects the merge between them. The tables have been loaded for you.\n",
    "\n",
    "For this exercise, it is important to know that the `wards` and `census` tables start with 50 rows."
   ]
  },
  {
   "cell_type": "markdown",
   "id": "b729548d",
   "metadata": {},
   "source": [
    "#### Instructions (3)\n",
    "1. Merge wards and census on the ward column and save the result to wards_census.\n",
    "2. Merge the wards_altered and census tables on the ward column, and notice the difference in returned rows.\n",
    "3. Merge the wards and census_altered tables on the ward column, and notice the difference in returned rows."
   ]
  },
  {
   "cell_type": "markdown",
   "id": "63ddb043",
   "metadata": {},
   "source": [
    "___\n",
    "``` python\n",
    "# Instruction 1. Merge wards and census on the ward column and save the result to wards_census.\n",
    "\n",
    "# Merge the wards and census tables on the ward column\n",
    "wards_census = wards.merge(census, on=\"ward\")\n",
    "\n",
    "# Print the shape of wards_census\n",
    "print('wards_census table shape:', wards_census.shape)\n",
    "\n",
    "\n",
    "# shell response\n",
    "wards_census table shape: (50, 9)\n",
    "```\n",
    "___"
   ]
  },
  {
   "cell_type": "markdown",
   "id": "4f3e13ca",
   "metadata": {},
   "source": [
    "``` python\n",
    "# Instruction 2. Merge the wards_altered and census tables on the ward column, and notice the difference in returned rows.\n",
    "\n",
    "# Print the first few rows of the wards_altered table to view the change \n",
    "print(wards_altered[['ward']].head())\n",
    "\n",
    "# Merge the wards_altered and census tables on the ward column\n",
    "wards_altered_census = wards_altered.merge(census, on=\"ward\")\n",
    "\n",
    "# Print the shape of wards_altered_census\n",
    "print('wards_altered_census table shape:', wards_altered_census.shape)\n",
    "\n",
    "\n",
    "\n",
    "# shell response\n",
    "  ward\n",
    "0   61\n",
    "1    2\n",
    "2    3\n",
    "3    4\n",
    "4    5\n",
    "wards_altered_census table shape: (49, 9)\n",
    "```\n",
    "___"
   ]
  },
  {
   "cell_type": "markdown",
   "id": "b5fb3038",
   "metadata": {},
   "source": [
    "``` python\n",
    "# Instruction 3. Merge the wards and census_altered tables on the ward column, and notice the difference in returned rows.\n",
    "\n",
    "# Print the first few rows of the census_altered table to view the change \n",
    "print(census_altered[['ward']].head())\n",
    "\n",
    "# Merge the wards and census_altered tables on the ward column\n",
    "wards_census_altered = wards.merge(census_altered, on=\"ward\")\n",
    "\n",
    "# Print the shape of wards_census_altered\n",
    "print('wards_census_altered table shape:', wards_census_altered.shape)\n",
    "\n",
    "\n",
    "\n",
    "\n",
    "# shell response\n",
    "    ward\n",
    "0  None\n",
    "1     2\n",
    "2     3\n",
    "3     4\n",
    "4     5\n",
    "wards_census_altered table shape: (49, 9)\n",
    "```\n",
    "___"
   ]
  },
  {
   "cell_type": "markdown",
   "id": "ee3dedb9",
   "metadata": {},
   "source": [
    "#### final thought\n",
    "Great job! In step 1, the `.merge()` returned a table with the same number of rows as the original `wards` table. However, in steps 2 and 3, using the altered tables with the altered first row of the `ward` column, the number of returned rows was fewer. There was not a matching value in the `ward` column of the other table. _Remember that `.merge()` only returns rows where the values match in both tables._"
   ]
  },
  {
   "cell_type": "markdown",
   "id": "d6009f4e",
   "metadata": {},
   "source": [
    "# Recap\n",
    "\n",
    "Your recent learnings\n",
    "When you left 2 days ago, you worked on Data Merging Basics, chapter 1 of the course Joining Data with pandas. Here is what you covered in your last lesson:\n",
    "\n",
    "You learned about the fundamentals of merging tables in pandas, focusing on inner joins. Inner joins are a method to combine rows from two tables based on a common column, returning only rows with matching values in both tables. Here are the key points you covered:\n",
    "\n",
    "- Understanding DataFrames and Tables: You discovered that in pandas, tables are represented as DataFrames, and merging them is a crucial skill for data analysis.\n",
    "- The `merge()` Method: You learned how to use pandas' `merge()` method to join two DataFrames. For example, to merge two DataFrames, `df1` and `df2`, on a common column named '`common_column`', you would use `df1.merge(df2, on='common_column')`.\n",
    "Inner Join Mechanics: An inner join returns a DataFrame containing only the rows that have matching values in both tables. This was illustrated through merging ward and census data, where only wards present in both DataFrames were included in the result.\n",
    "Suffixes in Merged DataFrames: You saw how pandas handles overlapping column names by appending suffixes, and you learned to customize these suffixes using the `suffixes` argument in the `merge()` method to make the output clearer.\n",
    "Practical Application: Through exercises, you applied these concepts by merging Chicago taxi owners and vehicle tables on the '`vid`' column to analyze taxi fuel types, demonstrating the real-world utility of inner joins.\n",
    "This lesson equipped you with the knowledge to merge data from multiple sources, a vital skill for uncovering insights in data analysis.\n",
    "\n",
    "The goal of the next lesson is to teach how to effectively combine and analyze data from multiple sources using one-to-many relationships, enhancing your ability to conduct comprehensive data analysis."
   ]
  }
 ],
 "metadata": {
  "language_info": {
   "name": "python"
  }
 },
 "nbformat": 4,
 "nbformat_minor": 5
}
