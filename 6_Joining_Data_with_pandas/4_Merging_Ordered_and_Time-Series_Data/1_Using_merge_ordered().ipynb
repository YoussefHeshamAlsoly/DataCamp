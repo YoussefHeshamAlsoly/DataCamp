{
 "cells": [
  {
   "cell_type": "markdown",
   "id": "b7714581",
   "metadata": {},
   "source": [
    "# Using merge_ordered()"
   ]
  },
  {
   "cell_type": "markdown",
   "id": "e122b93e",
   "metadata": {},
   "source": [
    "## Video lecture Transcript\n"
   ]
  }
 ],
 "metadata": {
  "language_info": {
   "name": "python"
  }
 },
 "nbformat": 4,
 "nbformat_minor": 5
}
