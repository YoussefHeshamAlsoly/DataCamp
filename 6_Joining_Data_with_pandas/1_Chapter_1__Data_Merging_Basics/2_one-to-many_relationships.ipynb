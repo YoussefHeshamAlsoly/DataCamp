{
 "cells": [
  {
   "cell_type": "markdown",
   "id": "26b63f65",
   "metadata": {},
   "source": [
    "# One-to-many relationships"
   ]
  },
  {
   "cell_type": "markdown",
   "id": "ea9bf8cd",
   "metadata": {},
   "source": [
    "## Video lecture Transcript\n",
    "\n",
    "**1. One to many relationships**\n",
    "\n",
    "Welcome back! In the last lesson, we learned how to merge two DataFrames together with the merge method. In this lesson, we'll discuss different types of relationships between tables. In particular, we will discuss the one-to-many relationship. But first, let's quickly consider what a one-to-one relationship is.\n",
    "\n",
    "**2. One-to-one**\n",
    "\n",
    "In a one-to-one relationship, every row in the left table is related to *one and only one* row in the right table.\n",
    "\n",
    "**3. One-to-one example**\n",
    "\n",
    "We looked at a one-to-one relationship earlier. Recall the relationship between the wards table and the census table. Every row in the wards table is related to only one row in the census table, so there is only one row for ward 3 in each table. Practically speaking, it only makes sense that there is one row of population information for each ward. It wouldn't make sense if the census table contained multiple population values in 2000 for the third ward.\n",
    "\n",
    "**4. One-to-many**\n",
    "\n",
    "So, what is a one-to-many related to each other by their ward column.\n",
    "\n",
    "**8. One-to-many example**\n",
    "\n",
    "When we merge the two tables together with the merge method, setting the 'on' attribute to the column ward, the resulting table has both local ward data and business license data. Notice that ward 1 and its alderman Joe is repeated in the resulting table because the licenses table has many businesses in the 1st ward. pandas takes care of the one-to-many relationships for us and doesn't require anything special on our end. We can use the same syntax as we did with one-to-one relationships.\n",
    "\n",
    "**9. One-to-many example**\n",
    "\n",
    "By printing the shape, we can see that our original wards table has 50 rows. After merging the wards table with the licenses table, the resulting table has 10,000 rows. When you merge tables that have a one-to-many relationship, the number of rows returned will likely be different than the number in the left table.\n",
    "\n",
    "**10. Let's practice!**\n",
    "\n",
    "Now let's make the one-to-many relationship idea more concrete by practicing."
   ]
  },
  {
   "cell_type": "markdown",
   "id": "07de3210",
   "metadata": {},
   "source": [
    "## Exercise 1:\n",
    "<img src=\"../1_Chapter_1/Resources/2_Ch1_part2_1.png\"/>"
   ]
  },
  {
   "cell_type": "markdown",
   "id": "aeee60dc",
   "metadata": {},
   "source": [
    "## Exercise 2:\n",
    "### Description:\n",
    "One-to-many merge\n",
    "A business may have one or multiple owners. In this exercise, you will continue to gain experience with one-to-many merges by merging a table of business owners, called biz_owners, to the licenses table. Recall from the video lesson, with a one-to-many relationship, a row in the left table may be repeated if it is related to multiple rows in the right table. In this lesson, you will explore this further by finding out what is the most common business owner title. (i.e., secretary, CEO, or vice president)\n",
    "\n",
    "The licenses and biz_owners DataFrames are loaded for you.\n",
    "\n",
    "\n",
    "## Instructions:\n",
    "100 XP\n",
    "Starting with the licenses table on the left, merge it to the biz_owners table on the column account, and save the results to a variable named licenses_owners.\n",
    "Group licenses_owners by title and count the number of accounts for each title. Save the result as counted_df\n",
    "Sort counted_df by the number of accounts in descending order, and save this as a variable named sorted_df.\n",
    "Use the .head() method to print the first few rows of the sorted_df.\n",
    "\n",
    "## Code:\n",
    "```python\n",
    "# Merge the licenses and biz_owners table on account\n",
    "licenses_owners = licenses.merge(biz_owners, on=\"account\")\n",
    "\n",
    "# Group the results by title then count the number of accounts\n",
    "counted_df = licenses_owners.groupby(\"title\").agg({'account':'count'})\n",
    "\n",
    "# Sort the counted_df in descending order\n",
    "sorted_df = counted_df.sort_values(by=\"account\", ascending=False)\n",
    "\n",
    "# Use .head() method to print the first few rows of sorted_df\n",
    "print(sorted_df.head())\n",
    "```\n",
    "\n",
    "## Shell output:\n",
    "```\n",
    "                 account\n",
    "title                   \n",
    "PRESIDENT           6259\n",
    "SECRETARY           5205\n",
    "SOLE PROPRIETOR     1658\n",
    "OTHER               1200\n",
    "VICE PRESIDENT       970\n",
    "```\n",
    "\n",
    "## Exercise recap\n",
    "\n",
    "Wonderful! After merging the tables together, you counted the number of repeated rows with the combination of `.groupby()` and `.agg()` statements. You see that president, followed by secretary, are the most common business owner titles."
   ]
  }
 ],
 "metadata": {
  "language_info": {
   "name": "python"
  }
 },
 "nbformat": 4,
 "nbformat_minor": 5
}
