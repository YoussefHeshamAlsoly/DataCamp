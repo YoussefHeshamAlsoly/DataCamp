{
 "cells": [
  {
   "cell_type": "markdown",
   "id": "dc74b0e6",
   "metadata": {},
   "source": [
    "# Verifying integrity"
   ]
  },
  {
   "cell_type": "markdown",
   "id": "91e96d3a",
   "metadata": {},
   "source": [
    "## Video lecture Transcript\n"
   ]
  }
 ],
 "metadata": {
  "language_info": {
   "name": "python"
  }
 },
 "nbformat": 4,
 "nbformat_minor": 5
}
