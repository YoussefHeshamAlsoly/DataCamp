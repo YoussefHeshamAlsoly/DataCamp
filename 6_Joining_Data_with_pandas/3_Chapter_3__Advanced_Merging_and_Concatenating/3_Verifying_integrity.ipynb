{
 "cells": [
  {
   "cell_type": "markdown",
   "id": "dc74b0e6",
   "metadata": {},
   "source": [
    "# Verifying integrity"
   ]
  },
  {
   "cell_type": "markdown",
   "id": "91e96d3a",
   "metadata": {},
   "source": [
    "## Video lecture Transcript\n",
    "\n",
    "**1. Verifying integrity**\n",
    "\n",
    "Welcome back. In this lesson, let's talk about verifying the integrity of our data.\n",
    "\n",
    "**2. Let's check our data**\n",
    "\n",
    "Both the merge and concat methods have special features that allow us to verify the structure of our data. When merging two tables, we might expect the tables to have a one-to-one relationship. However, one of the columns we are merging on may have a duplicated value, which will turn the relationship into a one-to-many.\n",
    "\n",
    "When concatenating tables vertically, we might unintentionally create duplicate records if a record exists in both tables. The validate and verify_integrity arguments of the merge and concat methods respectively will allow us to verify the data.\n",
    "\n",
    "**3. Validating merges**\n",
    "\n",
    "Let's start with the merge method. If we provide the validate argument one of these key strings, it will validate the relationship between the two tables. For example, if we specify we want a one-to-one relationship, but it turns out the relationship is not one-to-one, then a... so the index contains invoice IDs. Notice that invoice ID number 9 is in both tables.\n",
    "\n",
    "**4. Merge dataset for example**\n",
    "\n",
    "In this example, we want to merge these two tables on the column \"tid\". Again, our data is from our music service. The first table is named \"tracks\", and the second is called \"specs\" for the technical specifications of each track. Each track should have one set of specifications, so this should be a one-to-one merge. However, notice that the specs table has two rows with a \"tid\" value equal to two. Therefore, merging these tables now becomes, unintentionally, a one-to-many relationship.\n",
    "\n",
    "**5. Merge validate: one_to_one**\n",
    "\n",
    "Let's merge the two tables with the tracks table on the left and specs on the right. Additionally, let's set the validate argument equal to one_to_one. In the result, a MergeError is raised. Python then tells us that the right table has duplicates, so it is not a one-to-one merge. We know that we should handle those duplicates properly before merging.\n",
    "\n",
    "**6. Merge validate: one_to_many**\n",
    "\n",
    "Now we'll merge album information with the tracks table. For every album there are multiple tracks, so this should be a one-to-many relationship. When we set the validate argument to \"one_to_many\" no error is raised.\n",
    "\n",
    "**7. Verifying concatenations**\n",
    "\n",
    "Let's now talk about the concat method. It has the argument verify_integrity, which by default is False. However, if set to True, it will check if there are duplicate values in the index and raise an error if there are. It will only check the index values and not the columns.\n",
    "\n",
    "**8. Dataset for .concat() example**\n",
    "\n",
    "To try out this feature, we will attempt to concatenate these two tables. They are the February and March invoice data shown in a previous video. However, both tables were modified so the index contains invoice IDs. Notice that invoice ID number 9 is in both tables.\n",
    "\n",
    "**9. Verifying concatenation: example**\n",
    "\n",
    "Let's try to concatenate the two tables together with the verify_integrity argument set to True.\n",
    "\n",
    "The concat method raises a ValueError stating that the indexes have overlapping values. \n",
    "\n",
    "Now let's try to concatenate the two tables again with the verify_integrity set back to the default value of False.\n",
    "\n",
    "The concat method now returns a combined table with the invoice ID of number 9 repeated twice.\n",
    "\n",
    "**10. Why verify integrity and what to do**\n",
    "\n",
    "Often our data is not clean, and it may not always be evident if  data has the expected structure. Therefore, verifying this structure is useful, saving us from having a mean skewed by duplicate values, or from creating inaccurate plots.\n",
    "\n",
    "If you receive a MergeError or a ValueError, you can fix the incorrect data or drop duplicate rows. In general, you should look to correct the issue.\n",
    "\n",
    "**11. Let's practice!**\n",
    "\n",
    "Time for some practice!"
   ]
  }
 ],
 "metadata": {
  "language_info": {
   "name": "python"
  }
 },
 "nbformat": 4,
 "nbformat_minor": 5
}
