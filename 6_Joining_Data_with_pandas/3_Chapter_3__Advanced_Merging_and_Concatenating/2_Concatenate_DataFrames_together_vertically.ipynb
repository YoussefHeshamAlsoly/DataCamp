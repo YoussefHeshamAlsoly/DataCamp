{
 "cells": [
  {
   "cell_type": "markdown",
   "id": "dc74b0e6",
   "metadata": {},
   "source": [
    "# Concatenate DataFrames together vertically"
   ]
  },
  {
   "cell_type": "markdown",
   "id": "91e96d3a",
   "metadata": {},
   "source": [
    "## Video lecture Transcript\n",
    "\n",
    "**1. Concatenate DataFrames together vertically**\n",
    "\n",
    "\n",
    "Hello there! In this lesson, we'll talk about how to connect two tables vertically.\n",
    "\n",
    "**2. Concatenate two tables vertically**\n",
    "\n",
    "So far in this course, we have only discussed how to merge two tables, which mainly grows them horizontally. But what if we wanted to grow them vertically?\n",
    "\n",
    "We can use the concat method to concatenate, or stick tables together, vertically or horizontally, but in this lesson, we'll focus on vertical concatenation.\n",
    "\n",
    "**3. Basic concatenation**\n",
    "\n",
    "Often, data for different periods of time will come in multiple tables, but if we want to analyze it together, we'll need to combine them into one. Here are three separate tables of invoice data from our streaming service. Notice the column headers are the same. The separate tables are named \"inv\" underscore Jan through March.\n",
    "\n",
    "**4. Basic concatenation**\n",
    "\n",
    "We can pass a list of table names into pandas dot concat to combine the tables in the order they're passed in. To concatenate vertically, t...n names? The \"inv_feb\" table now has a column added for billing country.\n",
    "\n",
    "**5. Ignoring the index**\n",
    "\n",
    "If the index contains no valuable information, then we can ignore it in the concat method by setting ignore_index to True. The result is that the index will go from 0 to n-1.\n",
    "\n",
    "**6. Setting labels to original tables**\n",
    "\n",
    "Now, suppose we wanted to associate specific keys with each of the pieces of our three original tables. We can provide a list of labels to the keys argument. Make sure that ignore_index argument is False, since you can't add a key and ignore the index at the same time. This results in a table with a multi-index, with the label on the first level.\n",
    "\n",
    "**7. Concatenate tables with different column names**\n",
    "\n",
    "What if we need to combine tables that have different column names? The \"inv_feb\" table now has a column added for billing country.\n",
    "\n",
    "**8. Concatenate tables with different column names**\n",
    "\n",
    "The concat method by default will include all of the columns in the different tables it's combining. The sort argument, if true, will alphabetically sort the different column names in the result.\n",
    "\n",
    "We can see in the results that the billing country for January invoices is NaN. However, there are values for the February invoices.\n",
    "\n",
    "**9. Concatenate tables with different column names**\n",
    "\n",
    "If we only want the matching columns between tables, we can set the join argument to \"inner\". Its default value is equal to \"outer\", which is why concat by default will include all of the columns. Additionally, the sort argument has no effect when join equals \"inner\". The order of the columns will be the same as the input tables. \n",
    "\n",
    "Now the bill country column is gone and we're only left with the columns the tables have in common.\n",
    "\n",
    "**10. Let's practice!**\n",
    "\n",
    "With that, let's get some practice in!"
   ]
  }
 ],
 "metadata": {
  "language_info": {
   "name": "python"
  }
 },
 "nbformat": 4,
 "nbformat_minor": 5
}
